{
 "cells": [
  {
   "cell_type": "markdown",
   "metadata": {},
   "source": [
    "# Lecture 2 Homework Assignment\n",
    "\n",
    "In this problem, you will revisit the unemployment insurance experiment performed by the US department of labor in the 1980s. Unemployment insurance reduces the risks and the costs associated with being unemployed. On the other hand, it incentives people to put less effort into getting a job, which negatively affects the economy. One possible solution is to offer a monetary bonus for finding a new job quickly.\n",
    "\n",
    "To assess the effectiveness of this potential solution, the department of labor randomly split the unemployed into control and treatment groups and offered a cash bonus for finding a job within a certain period of time to the latter. The data is contained in `penn.csv` and described in the codebook posted on the class website.\n"
   ]
  },
  {
   "cell_type": "markdown",
   "metadata": {},
   "source": [
    "1) Select a subsample that only includes the control group and one of the treated groups, `tg = 0` and, say, `tg = 4`."
   ]
  },
  {
   "cell_type": "code",
   "execution_count": 241,
   "metadata": {},
   "outputs": [],
   "source": [
    "import numpy as np\n",
    "import pandas as pd\n",
    "\n",
    "# Importing the dataset\n",
    "dataset = pd.read_csv('penn.csv')\n",
    "\n",
    "# use treatment group 4 as the subsample\n",
    "treatment_grp = 4\n",
    "\n",
    "# create dataframe from subsample of data, with only tg = 0 and tg = 4\n",
    "sub_ds = dataset[dataset['tg'].isin([0,treatment_grp])]\n"
   ]
  },
  {
   "cell_type": "markdown",
   "metadata": {},
   "source": [
    "2) Define the outcome variable to be the logarithm of the number of weeks $Y = \\log(\\verb|inuidur1|)$, create the treatment indicator $D = 1(\\verb|tg = 4|)$, and a vector of controls $W = (\\text{sex, race, and age dummies})$.\n"
   ]
  },
  {
   "cell_type": "code",
   "execution_count": 242,
   "metadata": {},
   "outputs": [
    {
     "name": "stderr",
     "output_type": "stream",
     "text": [
      "/var/folders/16/f2lcjdn174n2mbc1pd7lybzc0000gn/T/ipykernel_96920/713937631.py:2: SettingWithCopyWarning: \n",
      "A value is trying to be set on a copy of a slice from a DataFrame.\n",
      "Try using .loc[row_indexer,col_indexer] = value instead\n",
      "\n",
      "See the caveats in the documentation: https://pandas.pydata.org/pandas-docs/stable/user_guide/indexing.html#returning-a-view-versus-a-copy\n",
      "  sub_ds['log_inuidur1'] = np.log(sub_ds['inuidur1'])\n",
      "/var/folders/16/f2lcjdn174n2mbc1pd7lybzc0000gn/T/ipykernel_96920/713937631.py:5: SettingWithCopyWarning: \n",
      "A value is trying to be set on a copy of a slice from a DataFrame.\n",
      "Try using .loc[row_indexer,col_indexer] = value instead\n",
      "\n",
      "See the caveats in the documentation: https://pandas.pydata.org/pandas-docs/stable/user_guide/indexing.html#returning-a-view-versus-a-copy\n",
      "  sub_ds['D'] = np.where(sub_ds['tg']== treatment_grp, 1, 0)\n"
     ]
    },
    {
     "data": {
      "text/html": [
       "<div>\n",
       "<style scoped>\n",
       "    .dataframe tbody tr th:only-of-type {\n",
       "        vertical-align: middle;\n",
       "    }\n",
       "\n",
       "    .dataframe tbody tr th {\n",
       "        vertical-align: top;\n",
       "    }\n",
       "\n",
       "    .dataframe thead th {\n",
       "        text-align: right;\n",
       "    }\n",
       "</style>\n",
       "<table border=\"1\" class=\"dataframe\">\n",
       "  <thead>\n",
       "    <tr style=\"text-align: right;\">\n",
       "      <th></th>\n",
       "      <th>Unnamed: 0</th>\n",
       "      <th>abdt</th>\n",
       "      <th>tg</th>\n",
       "      <th>inuidur1</th>\n",
       "      <th>female</th>\n",
       "      <th>black</th>\n",
       "      <th>hispanic</th>\n",
       "      <th>othrace</th>\n",
       "      <th>dep</th>\n",
       "      <th>q1</th>\n",
       "      <th>...</th>\n",
       "      <th>q6</th>\n",
       "      <th>agelt35</th>\n",
       "      <th>agegt54</th>\n",
       "      <th>durable</th>\n",
       "      <th>nondurable</th>\n",
       "      <th>lusd</th>\n",
       "      <th>husd</th>\n",
       "      <th>muld</th>\n",
       "      <th>log_inuidur1</th>\n",
       "      <th>D</th>\n",
       "    </tr>\n",
       "  </thead>\n",
       "  <tbody>\n",
       "    <tr>\n",
       "      <th>0</th>\n",
       "      <td>0</td>\n",
       "      <td>10824</td>\n",
       "      <td>0</td>\n",
       "      <td>18</td>\n",
       "      <td>0</td>\n",
       "      <td>0</td>\n",
       "      <td>0</td>\n",
       "      <td>0</td>\n",
       "      <td>2</td>\n",
       "      <td>0</td>\n",
       "      <td>...</td>\n",
       "      <td>0</td>\n",
       "      <td>0</td>\n",
       "      <td>0</td>\n",
       "      <td>0</td>\n",
       "      <td>0</td>\n",
       "      <td>0</td>\n",
       "      <td>1</td>\n",
       "      <td>0</td>\n",
       "      <td>2.890372</td>\n",
       "      <td>0</td>\n",
       "    </tr>\n",
       "    <tr>\n",
       "      <th>3</th>\n",
       "      <td>3</td>\n",
       "      <td>10824</td>\n",
       "      <td>0</td>\n",
       "      <td>1</td>\n",
       "      <td>0</td>\n",
       "      <td>0</td>\n",
       "      <td>0</td>\n",
       "      <td>0</td>\n",
       "      <td>0</td>\n",
       "      <td>0</td>\n",
       "      <td>...</td>\n",
       "      <td>0</td>\n",
       "      <td>0</td>\n",
       "      <td>0</td>\n",
       "      <td>0</td>\n",
       "      <td>0</td>\n",
       "      <td>1</td>\n",
       "      <td>0</td>\n",
       "      <td>0</td>\n",
       "      <td>0.000000</td>\n",
       "      <td>0</td>\n",
       "    </tr>\n",
       "    <tr>\n",
       "      <th>4</th>\n",
       "      <td>4</td>\n",
       "      <td>10747</td>\n",
       "      <td>0</td>\n",
       "      <td>27</td>\n",
       "      <td>0</td>\n",
       "      <td>0</td>\n",
       "      <td>0</td>\n",
       "      <td>0</td>\n",
       "      <td>0</td>\n",
       "      <td>0</td>\n",
       "      <td>...</td>\n",
       "      <td>0</td>\n",
       "      <td>0</td>\n",
       "      <td>0</td>\n",
       "      <td>0</td>\n",
       "      <td>0</td>\n",
       "      <td>1</td>\n",
       "      <td>0</td>\n",
       "      <td>0</td>\n",
       "      <td>3.295837</td>\n",
       "      <td>0</td>\n",
       "    </tr>\n",
       "    <tr>\n",
       "      <th>11</th>\n",
       "      <td>11</td>\n",
       "      <td>10607</td>\n",
       "      <td>4</td>\n",
       "      <td>9</td>\n",
       "      <td>0</td>\n",
       "      <td>0</td>\n",
       "      <td>0</td>\n",
       "      <td>0</td>\n",
       "      <td>0</td>\n",
       "      <td>0</td>\n",
       "      <td>...</td>\n",
       "      <td>0</td>\n",
       "      <td>1</td>\n",
       "      <td>0</td>\n",
       "      <td>0</td>\n",
       "      <td>0</td>\n",
       "      <td>0</td>\n",
       "      <td>0</td>\n",
       "      <td>1</td>\n",
       "      <td>2.197225</td>\n",
       "      <td>1</td>\n",
       "    </tr>\n",
       "    <tr>\n",
       "      <th>12</th>\n",
       "      <td>12</td>\n",
       "      <td>10831</td>\n",
       "      <td>0</td>\n",
       "      <td>27</td>\n",
       "      <td>0</td>\n",
       "      <td>0</td>\n",
       "      <td>0</td>\n",
       "      <td>0</td>\n",
       "      <td>1</td>\n",
       "      <td>0</td>\n",
       "      <td>...</td>\n",
       "      <td>0</td>\n",
       "      <td>0</td>\n",
       "      <td>1</td>\n",
       "      <td>1</td>\n",
       "      <td>0</td>\n",
       "      <td>1</td>\n",
       "      <td>0</td>\n",
       "      <td>0</td>\n",
       "      <td>3.295837</td>\n",
       "      <td>0</td>\n",
       "    </tr>\n",
       "  </tbody>\n",
       "</table>\n",
       "<p>5 rows × 24 columns</p>\n",
       "</div>"
      ],
      "text/plain": [
       "    Unnamed: 0   abdt  tg  inuidur1  female  black  hispanic  othrace  dep  \\\n",
       "0            0  10824   0        18       0      0         0        0    2   \n",
       "3            3  10824   0         1       0      0         0        0    0   \n",
       "4            4  10747   0        27       0      0         0        0    0   \n",
       "11          11  10607   4         9       0      0         0        0    0   \n",
       "12          12  10831   0        27       0      0         0        0    1   \n",
       "\n",
       "    q1  ...  q6  agelt35  agegt54  durable  nondurable  lusd  husd  muld  \\\n",
       "0    0  ...   0        0        0        0           0     0     1     0   \n",
       "3    0  ...   0        0        0        0           0     1     0     0   \n",
       "4    0  ...   0        0        0        0           0     1     0     0   \n",
       "11   0  ...   0        1        0        0           0     0     0     1   \n",
       "12   0  ...   0        0        1        1           0     1     0     0   \n",
       "\n",
       "    log_inuidur1  D  \n",
       "0       2.890372  0  \n",
       "3       0.000000  0  \n",
       "4       3.295837  0  \n",
       "11      2.197225  1  \n",
       "12      3.295837  0  \n",
       "\n",
       "[5 rows x 24 columns]"
      ]
     },
     "execution_count": 242,
     "metadata": {},
     "output_type": "execute_result"
    }
   ],
   "source": [
    "# define outcome variable as log(inuidur1)\n",
    "sub_ds['log_inuidur1'] = np.log(sub_ds['inuidur1'])\n",
    "\n",
    "# treatment indicator D = 1 if tg = 4\n",
    "sub_ds['D'] = np.where(sub_ds['tg']== treatment_grp, 1, 0)\n",
    "\n",
    "sub_ds.head()"
   ]
  },
  {
   "cell_type": "markdown",
   "metadata": {},
   "source": [
    "___\n",
    "3) Assume that the conditional exogeneity assumption is satisfied. Estimate the model:\n",
    "\n",
    "    $Y = \\beta_0 + \\beta_1 D + \\epsilon$\n",
    "\n",
    "\n",
    "    How do you interpret the coefficients? Under what assumptions do the coefficients have a *causal interpretation*? Do the results suggest that the program was successful in reducing the length of unemployment?"
   ]
  },
  {
   "cell_type": "code",
   "execution_count": 243,
   "metadata": {},
   "outputs": [
    {
     "name": "stdout",
     "output_type": "stream",
     "text": [
      "                            OLS Regression Results                            \n",
      "==============================================================================\n",
      "Dep. Variable:           log_inuidur1   R-squared:                       0.001\n",
      "Model:                            OLS   Adj. R-squared:                  0.001\n",
      "Method:                 Least Squares   F-statistic:                     5.686\n",
      "Date:                Thu, 18 Jan 2024   Prob (F-statistic):             0.0171\n",
      "Time:                        23:05:06   Log-Likelihood:                -8223.8\n",
      "No. Observations:                5099   AIC:                         1.645e+04\n",
      "Df Residuals:                    5097   BIC:                         1.646e+04\n",
      "Df Model:                           1                                         \n",
      "Covariance Type:            nonrobust                                         \n",
      "==============================================================================\n",
      "                 coef    std err          t      P>|t|      [0.025      0.975]\n",
      "------------------------------------------------------------------------------\n",
      "const          2.0568      0.021     98.105      0.000       2.016       2.098\n",
      "D             -0.0855      0.036     -2.384      0.017      -0.156      -0.015\n",
      "==============================================================================\n",
      "Omnibus:                     2610.670   Durbin-Watson:                   1.973\n",
      "Prob(Omnibus):                  0.000   Jarque-Bera (JB):              516.984\n",
      "Skew:                          -0.542   Prob(JB):                    5.47e-113\n",
      "Kurtosis:                       1.877   Cond. No.                         2.41\n",
      "==============================================================================\n",
      "\n",
      "Notes:\n",
      "[1] Standard Errors assume that the covariance matrix of the errors is correctly specified.\n"
     ]
    }
   ],
   "source": [
    "import statsmodels.api as sm\n",
    "# estimate beta_0 + beta_1 D + epsilon\n",
    "D = sub_ds['D']\n",
    "X = sm.add_constant(D)\n",
    "Y = sub_ds['log_inuidur1']\n",
    "model = sm.OLS(Y, X)\n",
    "results = model.fit()\n",
    "print(results.summary())"
   ]
  },
  {
   "cell_type": "markdown",
   "metadata": {},
   "source": [
    "We get from this OLS model that $\\hat{\\beta}_0 = 2.0568$ and $\\hat{\\beta}_1 = -0.0855$. That is, the expected value of $\\log(\\verb|inuidur1|)$ is $2.0568$ under no treatment, and we expect a decrease of $0.0855$ in $\\log(\\verb|inuidur1|)$ when we apply the treatment. \n",
    "\n",
    "In order for us to interpret the coefficients causally, i.e that the effect of the treatment is a -0.0855 decrease in $\\log(\\verb|inuidur1|)$, we need to assume that the conditional exogeneity condition, i.e $\\mathbb{E}[D\\epsilon] = 0$ is satisfied - that is to say, we can affect the outcome $Y$ only through the treatment $D$.\n",
    "\n",
    "These results seem to suggest that the treatment was successful in reducing the length of unemployment, since the coefficient is negative and statistically significant at the 5% level.\n"
   ]
  },
  {
   "cell_type": "markdown",
   "metadata": {},
   "source": [
    "___\n",
    "4) Estimate the model:\n",
    "\n",
    "    $Y = \\beta_0 + \\beta_1 D + + \\beta_2'W + \\epsilon$\n",
    "\n",
    "    How do you interpret the coefficients? Under what assumptions do the coefficients have a causal interpretation? What is the difference with part (3)? Do the results suggest that the program was successful in reducing the length of unemployment?"
   ]
  },
  {
   "cell_type": "code",
   "execution_count": 244,
   "metadata": {},
   "outputs": [
    {
     "name": "stdout",
     "output_type": "stream",
     "text": [
      "                            OLS Regression Results                            \n",
      "==============================================================================\n",
      "Dep. Variable:           log_inuidur1   R-squared:                       0.021\n",
      "Model:                            OLS   Adj. R-squared:                  0.020\n",
      "Method:                 Least Squares   F-statistic:                     15.93\n",
      "Date:                Thu, 18 Jan 2024   Prob (F-statistic):           7.63e-21\n",
      "Time:                        23:05:06   Log-Likelihood:                -8171.4\n",
      "No. Observations:                5099   AIC:                         1.636e+04\n",
      "Df Residuals:                    5091   BIC:                         1.641e+04\n",
      "Df Model:                           7                                         \n",
      "Covariance Type:            nonrobust                                         \n",
      "==============================================================================\n",
      "                 coef    std err          t      P>|t|      [0.025      0.975]\n",
      "------------------------------------------------------------------------------\n",
      "const          2.1360      0.035     60.883      0.000       2.067       2.205\n",
      "D             -0.0801      0.036     -2.255      0.024      -0.150      -0.010\n",
      "female         0.0945      0.034      2.744      0.006       0.027       0.162\n",
      "black         -0.2773      0.052     -5.369      0.000      -0.379      -0.176\n",
      "hispanic      -0.2837      0.095     -2.976      0.003      -0.471      -0.097\n",
      "othrace       -0.4687      0.199     -2.359      0.018      -0.858      -0.079\n",
      "agelt35       -0.1714      0.037     -4.670      0.000      -0.243      -0.099\n",
      "agegt54        0.1895      0.058      3.240      0.001       0.075       0.304\n",
      "==============================================================================\n",
      "Omnibus:                     2181.038   Durbin-Watson:                   1.991\n",
      "Prob(Omnibus):                  0.000   Jarque-Bera (JB):              482.108\n",
      "Skew:                          -0.518   Prob(JB):                    2.05e-105\n",
      "Kurtosis:                       1.907   Cond. No.                         15.4\n",
      "==============================================================================\n",
      "\n",
      "Notes:\n",
      "[1] Standard Errors assume that the covariance matrix of the errors is correctly specified.\n"
     ]
    }
   ],
   "source": [
    "# estimate beta_0 + beta_1 D + beta_2 W + epsilon\n",
    "\n",
    "# define W as a vector of all additional covariates\n",
    "W = sub_ds[['female', 'black', 'hispanic', 'othrace',\n",
    "            'agelt35', 'agegt54']]\n",
    "\n",
    "# estimate model\n",
    "X = pd.concat([D, W], axis=1)\n",
    "X = sm.add_constant(X)\n",
    "model = sm.OLS(Y, X)\n",
    "results = model.fit()\n",
    "print(results.summary())"
   ]
  },
  {
   "cell_type": "markdown",
   "metadata": {},
   "source": [
    "We intepret the coefficients for this model in a similar way: $\\hat{\\beta}_0 = 2.136$ tells us the expected value $\\log(\\verb|inuidur1|)$ is $2.0568$ under no treatment for our sample, $\\hat{\\beta}_1 = -0.0801$ tells us that we expect a decrease of $0.0801$ in $\\log(\\verb|inuidur1|)$ when we apply the treatment, and $\\hat{\\beta}_2 = is a vector of all the other coefficients of our  age, race, and gender controls.\n",
    "\n",
    "The difference between this model and the previous one is that this model takes into account other variables that might affect the outcome $Y$. This model thus attributes some of the outcome of $Y$ to covariates other than the treatment status $D$ - isolating our variable of interest from other factors that may influence duration of unemployment. Causal interpretation now hinges on two assumptions: the first is that the exogeneity condition is still satisfied, i.e $\\mathbb{E}[D\\epsilon] = 0$ and $\\mathbb{E}$[We] = 0, and the second is that the covariates $W$ are not affected by the treatment $D$: $\\mathbb{E}[W|D] = \\mathbb{E}[W]$. \n",
    "\n",
    "The results do seem to suggest that the program helped reduce the length of unemployment, since the coefficient is negative and statistically significant at the 5% level."
   ]
  },
  {
   "cell_type": "markdown",
   "metadata": {},
   "source": [
    "___\n",
    "\n",
    "5) Estimate the model:\n",
    "    $Y = \\beta_0 + \\beta_1 D + + \\beta_2'W + + \\beta_3'WD + \\epsilon$\n",
    "\n",
    "    How do you interpret the coefficients? Do the results suggest that the model from part (3) was reasonable?"
   ]
  },
  {
   "cell_type": "code",
   "execution_count": 245,
   "metadata": {},
   "outputs": [
    {
     "name": "stdout",
     "output_type": "stream",
     "text": [
      "(5099, 6)\n",
      "                            OLS Regression Results                            \n",
      "==============================================================================\n",
      "Dep. Variable:           log_inuidur1   R-squared:                       0.022\n",
      "Model:                            OLS   Adj. R-squared:                  0.020\n",
      "Method:                 Least Squares   F-statistic:                     9.001\n",
      "Date:                Thu, 18 Jan 2024   Prob (F-statistic):           1.35e-18\n",
      "Time:                        23:05:07   Log-Likelihood:                -8168.6\n",
      "No. Observations:                5099   AIC:                         1.637e+04\n",
      "Df Residuals:                    5085   BIC:                         1.646e+04\n",
      "Df Model:                          13                                         \n",
      "Covariance Type:            nonrobust                                         \n",
      "==============================================================================\n",
      "                 coef    std err          t      P>|t|      [0.025      0.975]\n",
      "------------------------------------------------------------------------------\n",
      "const          2.1666      0.041     52.901      0.000       2.086       2.247\n",
      "D             -0.1628      0.070     -2.332      0.020      -0.300      -0.026\n",
      "female         0.0599      0.043      1.408      0.159      -0.023       0.143\n",
      "black         -0.3054      0.064     -4.783      0.000      -0.431      -0.180\n",
      "hispanic      -0.3682      0.113     -3.262      0.001      -0.589      -0.147\n",
      "othrace       -0.4486      0.277     -1.620      0.105      -0.992       0.094\n",
      "agelt35       -0.1795      0.045     -3.982      0.000      -0.268      -0.091\n",
      "agegt54        0.1343      0.072      1.865      0.062      -0.007       0.275\n",
      "female         0.0967      0.073      1.332      0.183      -0.046       0.239\n",
      "black          0.0743      0.109      0.683      0.494      -0.139       0.287\n",
      "hispanic       0.2801      0.211      1.327      0.185      -0.134       0.694\n",
      "othrace       -0.0457      0.398     -0.115      0.909      -0.826       0.734\n",
      "agelt35        0.0175      0.078      0.225      0.822      -0.135       0.170\n",
      "agegt54        0.1557      0.124      1.259      0.208      -0.087       0.398\n",
      "==============================================================================\n",
      "Omnibus:                     2131.631   Durbin-Watson:                   1.992\n",
      "Prob(Omnibus):                  0.000   Jarque-Bera (JB):              479.756\n",
      "Skew:                          -0.518   Prob(JB):                    6.64e-105\n",
      "Kurtosis:                       1.911   Cond. No.                         36.0\n",
      "==============================================================================\n",
      "\n",
      "Notes:\n",
      "[1] Standard Errors assume that the covariance matrix of the errors is correctly specified.\n"
     ]
    }
   ],
   "source": [
    "D_np_arr = D.to_numpy()\n",
    "print(W.shape)\n",
    "WD = W * D_np_arr[:, np.newaxis]\n",
    "\n",
    "X = pd.concat([D, W, WD], axis=1)\n",
    "X = sm.add_constant(X)\n",
    "model = sm.OLS(Y, X)\n",
    "results = model.fit()\n",
    "print(results.summary())\n"
   ]
  },
  {
   "cell_type": "markdown",
   "metadata": {},
   "source": [
    "Here, we intepret the coefficients $\\beta_0, \\beta_1, \\beta_2$ in the same way as in part (4). The difference is that we now have an additional term $\\beta_3'WD$, or interaction term, tells us the differential effect of each covariate in $W$ in relation to the treatment $D$ - for example, we see that the scalar coefficient for \"female_D\" is 0.0967, which would suggest (if taken at face value) that the treatment's effect on unemployment differs between males and females by 0.0967, on average. Of course, we must consider other factors such as the standard error of this coefficient, the p-value of this estimator, and the fact that the treatment is binary, so we cannot interpret this coefficient as a slope, etc.\n",
    "\n",
    "The results of this model seem to suggest that the model from part (3) underestimated the effect of the treatment, since the coefficient for the treatment is now -0.1628, as opposed to -0.0855 in part (3).\n",
    "\n"
   ]
  },
  {
   "cell_type": "markdown",
   "metadata": {},
   "source": [
    "___\n",
    "(6) Do your conclusions change for different treatment groups? (do not include all of the estimation results, just discuss them).\n",
    "\n",
    "While using different treatment groups (i.e tg = 1, 2, 3) changes the value of the coefficient, the sign of $\\beta_1$ remains negative. However, for treatment group 1, we find that the p-value for $\\hat{\\beta}_1$ is very large, notably it is greater $\\alpha = 0.05$ and is thus not statistically significant at the 5% level for all three models. Other treatment groups have significant results for some models but not others: for example, treatment group 2 has a significant result for the model in part (3) and (4) but not for the model in part (5) - this seems to indicate that the treatment effect is not the same for all treatment groups, and brings into question the validity of our conclusions from just testing our subsample of treatment group 4, and furthermore, the effectiveness of the treatment itself."
   ]
  },
  {
   "cell_type": "markdown",
   "metadata": {},
   "source": [
    "___\n",
    "### Question 2\n",
    "\n",
    "Perform Monte-Carlo simulations to investigate performance of different weight- ing matrices $\\Omega_n$ used in the $IV$ estimator. Below is a suggested roadmap. Use $M = 1000$ simulations and $n = 200$ observations."
   ]
  },
  {
   "cell_type": "markdown",
   "metadata": {},
   "source": [
    "___\n",
    "\n",
    "0) Pick some true value $\\beta = (\\beta_1, \\beta_1) \\in \\mathbb{R}^2$"
   ]
  },
  {
   "cell_type": "code",
   "execution_count": 246,
   "metadata": {},
   "outputs": [],
   "source": [
    "def generate_beta():\n",
    "    # generate beta_0 as a random number from a normal distribution, between -1 and 1\n",
    "    beta_0 = np.random.normal(0, 10)\n",
    "    # generate beta_1 as a random number from a normal distribution, between -1 and 1\n",
    "    beta_1 = np.random.normal(0, 10)\n",
    "    return np.array([beta_0, beta_1])\n"
   ]
  },
  {
   "cell_type": "markdown",
   "metadata": {},
   "source": [
    "___\n",
    "1) For each simulation, create $(Y_i, X_i, Z_i)_{i=1}^n$ where $d_Z > d_X$, $X$ is endogenous, and $Z$ is a valid instrument. To obtain interesting results, introduce some heteroskedasticity."
   ]
  },
  {
   "cell_type": "code",
   "execution_count": 275,
   "metadata": {},
   "outputs": [],
   "source": [
    "def generate_data(n, beta):\n",
    "    # generate simulation data, where d_z > d_x, X is endogenous, and Z is a valid instrument.\n",
    "    # n is the number of observations\n",
    "    # beta is a vector of coefficients beta_0 and beta_1\n",
    "    # return Y, X, Z\n",
    "    # generate dz > dx\n",
    "    d_Z = 2\n",
    "    d_X = 1\n",
    "    \n",
    "\n",
    "    # generate X from a normal distribution\n",
    "    X = np.random.normal(0, 1, n)\n",
    "    # generate Z from a normal distribution\n",
    "    Z = np.random.normal(0, 1, size = (n, d_Z))\n",
    "    # generate epsilon, introducing heteroskedasticity into the model\n",
    "    epsilon = np.random.normal(0, d_X + (d_Z ** 2), n)\n",
    "    Y = np.random.normal(0, 1, size = n) * beta[0] + beta[1] * X + epsilon\n",
    "    return (Y, X, Z)"
   ]
  },
  {
   "cell_type": "markdown",
   "metadata": {},
   "source": [
    "___\n",
    "2) Calculate $\\hat{\\beta}_{n, j}^{IV} for j = 1, 2, 3$ using the three choices of $\\Omega_n$"
   ]
  },
  {
   "cell_type": "code",
   "execution_count": 278,
   "metadata": {},
   "outputs": [
    {
     "name": "stdout",
     "output_type": "stream",
     "text": [
      "[[ -15.61206257  -15.94065717  -13.75487555]\n",
      " [ -40.09098123  -40.15193614  -56.25150406]\n",
      " [  -6.45515513   -7.0658754    11.26256479]\n",
      " ...\n",
      " [  25.9328606    25.76085681   16.86368549]\n",
      " [  94.27686403  103.13025488 -553.40510777]\n",
      " [   7.94529566    7.34043706    3.59063007]]\n"
     ]
    }
   ],
   "source": [
    "def calculate_beta_iv(X, Y, Z, omega):\n",
    "    # calculate beta_iv\n",
    "    part1 = X.T @ Z @ omega @ Z.T @ X\n",
    "    part2 = X.T @ Z @ omega @ Z.T @ Y\n",
    "    \n",
    "    if type(part1) == np.float64:\n",
    "        return part2 / part1\n",
    "    else:\n",
    "        return np.linalg.inv(part1) @ part2\n",
    "    \n",
    "\n",
    "# omega_i is the identity matrix\n",
    "def omega_i():\n",
    "    return np.identity(2)\n",
    "    \n",
    "\n",
    "# # omega_2sls corresponds to two-stage least squares\n",
    "def omega_2sls(Z):\n",
    "    return np.linalg.inv(Z.T @ Z)\n",
    "    \n",
    "\n",
    "# # omega_3sls corresponds to three-stage least squares\n",
    "def omega_3sls(Y, Z):\n",
    "    # obtain estimator beta_tilde from first stage regression\n",
    "    beta_tilde = np.linalg.inv(Z.T @ Z) @ Z.T @ X\n",
    "    # obtain residuals e_i = Y - X.T @ beta_tilde from first stage regression\n",
    "    e = Y - Z @ beta_tilde\n",
    "    omega_3sls = np.linalg.inv(Z.T @ Z + e.T @ e)\n",
    "    return omega_3sls\n",
    "\n",
    "def omega(j, Y, Z):\n",
    "    if j == 0:\n",
    "        return omega_i()\n",
    "    elif j == 1:\n",
    "        return omega_2sls(Z)\n",
    "    elif j == 2:\n",
    "        return omega_3sls(Y, Z)\n",
    "    else:\n",
    "        print(\"j out of bounds\")\n",
    "        return\n",
    "\n",
    "N = 200 # number of samples\n",
    "\n",
    "\n",
    "def run_simulation(m, beta):\n",
    "    results = np.zeros((m, 3))\n",
    "    for trial in range(m):        \n",
    "        Y, X, Z = generate_data(N, beta)\n",
    "        beta_hat = np.zeros(3)\n",
    "        for j in range(3):\n",
    "            om = omega(j, Y, Z)\n",
    "            beta_hat[j] = calculate_beta_iv(X, Y, Z, om)\n",
    "\n",
    "        results[trial] = beta_hat\n",
    "\n",
    "    return results\n",
    "\n",
    "beta = generate_beta()\n",
    "results = run_simulation(1000, beta)\n",
    "\n",
    "results.shape\n",
    "print(results)\n"
   ]
  },
  {
   "cell_type": "code",
   "execution_count": 279,
   "metadata": {},
   "outputs": [
    {
     "name": "stdout",
     "output_type": "stream",
     "text": [
      "[31.15053986  8.61916716]\n"
     ]
    },
    {
     "data": {
      "image/png": "[encoded data removed]",
      "text/plain": [
       "<Figure size 640x480 with 1 Axes>"
      ]
     },
     "metadata": {},
     "output_type": "display_data"
    },
    {
     "data": {
      "image/png": "[encoded data removed]",
      "text/plain": [
       "<Figure size 640x480 with 1 Axes>"
      ]
     },
     "metadata": {},
     "output_type": "display_data"
    },
    {
     "data": {
      "image/png": "[encoded data removed]",
      "text/plain": [
       "<Figure size 640x480 with 1 Axes>"
      ]
     },
     "metadata": {},
     "output_type": "display_data"
    }
   ],
   "source": [
    "import matplotlib.pyplot as plt\n",
    "\n",
    "def plot_results(beta, beta_hat_n_j):\n",
    "    # plot histogram of results\n",
    "    plt.hist(beta_hat_n_j[:, 0], bins = 50)\n",
    "    plt.title(\"beta_0\")\n",
    "    plt.show()\n",
    "    plt.hist(beta_hat_n_j[:, 1], bins = 50)\n",
    "    plt.title(\"beta_1\")\n",
    "    plt.show()\n",
    "    plt.hist(beta_hat_n_j[:, 2], bins = 50)\n",
    "    plt.title(\"beta_2\")\n",
    "    plt.show()\n",
    "\n",
    "print(beta)\n",
    "\n",
    "plot_results(beta, results)\n",
    "    \n"
   ]
  },
  {
   "cell_type": "code",
   "execution_count": null,
   "metadata": {},
   "outputs": [],
   "source": []
  }
 ],
 "metadata": {
  "kernelspec": {
   "display_name": "Python 3",
   "language": "python",
   "name": "python3"
  },
  "language_info": {
   "codemirror_mode": {
    "name": "ipython",
    "version": 3
   },
   "file_extension": ".py",
   "mimetype": "text/x-python",
   "name": "python",
   "nbconvert_exporter": "python",
   "pygments_lexer": "ipython3",
   "version": "3.11.3"
  }
 },
 "nbformat": 4,
 "nbformat_minor": 2
}
